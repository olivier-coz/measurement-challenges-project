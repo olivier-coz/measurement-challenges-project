{
 "cells": [
  {
   "cell_type": "markdown",
   "id": "1ecc3deb",
   "metadata": {},
   "source": [
    "# Ranking and normalising ESG Scores And creating a Green minus Brown portfolio"
   ]
  },
  {
   "cell_type": "markdown",
   "id": "cec72d28",
   "metadata": {},
   "source": [
    "# Imports"
   ]
  },
  {
   "cell_type": "code",
   "execution_count": 1,
   "id": "d275f8b0",
   "metadata": {},
   "outputs": [],
   "source": [
    "import pandas as pd \n",
    "import numpy as np\n",
    "import os\n",
    "from pathlib import Path\n",
    "from collections import Counter\n",
    "from datetime import datetime, timedelta\n",
    "\n",
    "dataPath = str(Path(os.getcwd()).parent.absolute())+\"/data\""
   ]
  },
  {
   "cell_type": "markdown",
   "id": "ba536cfd",
   "metadata": {},
   "source": [
    "# Reading the data"
   ]
  },
  {
   "cell_type": "code",
   "execution_count": 2,
   "id": "534e6ab9",
   "metadata": {},
   "outputs": [],
   "source": [
    "stocksData = pd.read_csv(dataPath+'/raw/stocksData.csv', index_col=0) "
   ]
  },
  {
   "cell_type": "code",
   "execution_count": 3,
   "id": "ea2537c8",
   "metadata": {},
   "outputs": [],
   "source": [
    "stocksNormalizedData = stocksData.copy()"
   ]
  },
  {
   "cell_type": "code",
   "execution_count": 4,
   "id": "85bad4ba",
   "metadata": {},
   "outputs": [],
   "source": [
    "#deleteting the value and changing the type from int to float for the esg ranking\n",
    "for column in stocksData:\n",
    "        if column[-22:] == \"|ESG_RANKING_ROBECOSAM\":\n",
    "            stocksNormalizedData[column]=0.0"
   ]
  },
  {
   "cell_type": "markdown",
   "id": "632a8d91",
   "metadata": {},
   "source": [
    "# Ranking and normalising Robecosam Environmental Ranking\n",
    "Robecosam Environnental Ranking scores companies from 100 (very green) to 0 (very brown)\n",
    "\n",
    "The following code will rank and normalize those scores between 0 and 1 so that 10% of companies have a score above 0.9, 0 being the best (green) and 1 the worst (brown) (not enterely true due to companies having the same ranking)"
   ]
  },
  {
   "cell_type": "code",
   "execution_count": 5,
   "id": "a6244b15",
   "metadata": {},
   "outputs": [
    {
     "name": "stderr",
     "output_type": "stream",
     "text": [
      "/tmp/ipykernel_167079/1326309656.py:24: SettingWithCopyWarning: \n",
      "A value is trying to be set on a copy of a slice from a DataFrame\n",
      "\n",
      "See the caveats in the documentation: https://pandas.pydata.org/pandas-docs/stable/user_guide/indexing.html#returning-a-view-versus-a-copy\n",
      "  stocksNormalizedData[column][index] = dailyESGRankings.index(stocksData[column][index])/len(dailyESGRankings) #ISSUE IF LOT OF COMAPNIES HAVE THE SAME SCORE ?!!!!?\n",
      "/tmp/ipykernel_167079/1326309656.py:22: SettingWithCopyWarning: \n",
      "A value is trying to be set on a copy of a slice from a DataFrame\n",
      "\n",
      "See the caveats in the documentation: https://pandas.pydata.org/pandas-docs/stable/user_guide/indexing.html#returning-a-view-versus-a-copy\n",
      "  stocksNormalizedData[column][index]=1\n"
     ]
    }
   ],
   "source": [
    "#Very slow, not optimized\n",
    "for index, row in stocksData.iterrows():\n",
    "    dailyESGRankings=[]\n",
    "    for column in stocksData:\n",
    "        if column[-22:] == \"|ESG_RANKING_ROBECOSAM\":\n",
    "            dailyESGRankings+=[stocksData[column][index]]\n",
    "    dailyESGRankings.sort(reverse=True)\n",
    "\n",
    "    #important step: if the last stocks are ex aequo put them in last place with a score of zero, so that we always have stocks for the making of the brown portfolio\n",
    "    # if we don't do this those 2 stocks will not have a score of zero, they will have a score of (nb of stock-1)/(nb of stocks)\n",
    "    # this could cause issue if our starting portfolio doesnt contains many stocks\n",
    "    # this is not the case here, but it might when will create the green minus brown portfolios per industry later\n",
    "    \n",
    "    worstScoreRank=-1\n",
    "    if len(dailyESGRankings)-1!= dailyESGRankings.index(dailyESGRankings[-1]):\n",
    "        worstScoreRank=dailyESGRankings.index(dailyESGRankings[-1])\n",
    "    \n",
    "    for column in stocksData:\n",
    "        if column[-22:] == \"|ESG_RANKING_ROBECOSAM\":\n",
    "            \n",
    "            if dailyESGRankings.index(stocksData[column][index]) == worstScoreRank:\n",
    "                stocksNormalizedData[column][index]=1\n",
    "            else:\n",
    "                stocksNormalizedData[column][index] = dailyESGRankings.index(stocksData[column][index])/len(dailyESGRankings) #ISSUE IF LOT OF COMAPNIES HAVE THE SAME SCORE ?!!!!?\n",
    "    "
   ]
  },
  {
   "cell_type": "markdown",
   "id": "36a585f8",
   "metadata": {},
   "source": [
    "# Ranking and normalising Bloomberg Environmental Ranking\n",
    "Bloomberg Environnental Score \n",
    "The following code will rank and normalize those scores between 0 and 1 so that 10% of companies have a score above 0.9, 0 being the best (green) and 1 the worst (brown) (not enterely true due to companies having the same ranking)"
   ]
  },
  {
   "cell_type": "code",
   "execution_count": 6,
   "id": "ee7d09c0",
   "metadata": {},
   "outputs": [
    {
     "name": "stderr",
     "output_type": "stream",
     "text": [
      "/tmp/ipykernel_167079/2627010068.py:27: SettingWithCopyWarning: \n",
      "A value is trying to be set on a copy of a slice from a DataFrame\n",
      "\n",
      "See the caveats in the documentation: https://pandas.pydata.org/pandas-docs/stable/user_guide/indexing.html#returning-a-view-versus-a-copy\n",
      "  stocksNormalizedData[column][index] = dailyESGRankings.index(stocksData[column][index])/len(dailyESGRankings) #ISSUE IF LOT OF COMAPNIES HAVE THE SAME SCORE ?!!!!?\n",
      "/tmp/ipykernel_167079/2627010068.py:25: SettingWithCopyWarning: \n",
      "A value is trying to be set on a copy of a slice from a DataFrame\n",
      "\n",
      "See the caveats in the documentation: https://pandas.pydata.org/pandas-docs/stable/user_guide/indexing.html#returning-a-view-versus-a-copy\n",
      "  stocksNormalizedData[column][index]=1\n"
     ]
    }
   ],
   "source": [
    "#Not optimized very slow\n",
    "\n",
    "for index, row in stocksData.iterrows():\n",
    "    dailyESGRankings=[]\n",
    "\n",
    "    for column in stocksData:\n",
    "        if column[-20:] == \"|ESG_SCORE_BLOOMBERG\":\n",
    "            dailyESGRankings+=[stocksData[column][index]]\n",
    "    dailyESGRankings.sort(reverse=True)\n",
    "    \n",
    "    \n",
    "    #important step: if the last stocks are ex aequo put them in last place with a score of zero, so that we always have stocks for the making of the brown portfolio\n",
    "    # if we don't do this those 2 stocks will not have a score of zero, they will have a score of (nb of stock-1)/(nb of stocks)\n",
    "    # this could cause issue if our starting portfolio doesnt contains many stocks\n",
    "    # this is not the case here, but it might when will create the green minus brown portfolios per industry later\n",
    "    \n",
    "    worstScoreRank=-1\n",
    "    if len(dailyESGRankings)-1!= dailyESGRankings.index(dailyESGRankings[-1]):\n",
    "        worstScoreRank=dailyESGRankings.index(dailyESGRankings[-1])\n",
    "    \n",
    "    for column in stocksData:\n",
    "        if column[-20:] == \"|ESG_SCORE_BLOOMBERG\":\n",
    "            \n",
    "            if dailyESGRankings.index(stocksData[column][index]) == worstScoreRank:\n",
    "                stocksNormalizedData[column][index]=1\n",
    "            else:\n",
    "                stocksNormalizedData[column][index] = dailyESGRankings.index(stocksData[column][index])/len(dailyESGRankings) #ISSUE IF LOT OF COMAPNIES HAVE THE SAME SCORE ?!!!!?\n",
    "\n",
    "    "
   ]
  },
  {
   "cell_type": "markdown",
   "id": "77b0606c",
   "metadata": {},
   "source": [
    "# Making the green minus brown portfolio\n",
    "Long the best 30% stocks and short the worst 30% stocks\n",
    "!!!!!  due to the fact that there might be ex aequo it might be a bit more than 30% for the green stocks, and a bit less than 30% for for the brown ones\n",
    "example:\n",
    "if we have a portfolio of 3 stocks A, B, C\n",
    "\n",
    "### if A, B, C have scores of 0, 0.5, 1 respectively: (meaning C is the brownest A the greenest and B is in the middle)\n",
    "The green portfolio will be constructed of all stocks with a score inferior to 0.3  -> stock A\n",
    "\n",
    "The brown portfolio will be constructed of all stocks with a score superior to 0.7 -> stock C\n",
    "\n",
    "### if A, B, C have scores of 0, 0, 1 respectively: (meaning A and B are the greenest and C the brownest )\n",
    "The green portfolio will be constructed of all stocks with a score inferior to 0.3 -> stock A and B <i>(with an equal weight. every stock in green or brown portfolio will have the same weight, there are other possible methodologies such as having a bigger weigh for stock with lower score close to 0 and smaller weight for stocks with a score closer to 0.3, this could be further studied in futur work)</i>\n",
    "\n",
    "The brown portfolio will be constructed of all stocks with a score superior to 0.7 -> stock C\n",
    "\n",
    "Method:\n",
    "for each day, we count the nb of stocks with a score <0.3 (for day D-1 !!!) , sum the daily returns of those stock (for day D !!!) and create the daily returns of the green portfolio: summedReturns/nbOfStocks"
   ]
  },
  {
   "cell_type": "code",
   "execution_count": 7,
   "id": "394ba99e",
   "metadata": {},
   "outputs": [],
   "source": [
    "marketGreenPortfolios = pd.DataFrame(index=stocksData.index, columns=[\"MKT_GREEN_BL|DAILY_RETURNS\",\"MKT_BROWN_BL|DAILY_RETURNS\",\"MKT_GMB_BL|DAILY_RETURNS\",\"MKT_GREEN_RO|DAILY_RETURNS\",\"MKT_BROWN_RO|DAILY_RETURNS\",\"MKT_GMB_RO|DAILY_RETURNS\"])\n",
    "\n",
    "lastDay=stocksData.index[0]\n",
    "for index, row in stocksData[stocksData.index > stocksData.index[0]].iterrows(): #skip the fisrt day\n",
    "    countBloombergGreenStocks, countBloombergBrownStocks, countRobecosamGreenStocks, countRobecosamBrownStocks = 0, 0, 0 ,0\n",
    "    returnsBloombergGreenStocks, returnsBloombergBrownStocks, returnsRobecosamGreenStocks, returnsRobecosamBrownStocks = 0, 0, 0, 0\n",
    "#     print(index)\n",
    "    for column in stocksNormalizedData:\n",
    "        if column[-20:] == \"|ESG_SCORE_BLOOMBERG\":\n",
    "            if stocksNormalizedData[column][lastDay]<0.3:\n",
    "                countBloombergGreenStocks+=1\n",
    "#                 print(column,stocksNormalizedData[column[:-20]+\"|DAILY_RETURNS\"][index])\n",
    "                \n",
    "                returnsBloombergGreenStocks+=stocksNormalizedData[column[:-20]+\"|DAILY_RETURNS\"][index]\n",
    "            elif stocksNormalizedData[column][lastDay]>0.7:\n",
    "                countBloombergBrownStocks+=1\n",
    "                returnsBloombergBrownStocks+=stocksNormalizedData[column[:-20]+\"|DAILY_RETURNS\"][index]\n",
    "        elif column[-22:] == \"|ESG_RANKING_ROBECOSAM\":\n",
    "            if stocksNormalizedData[column][lastDay]<0.3:\n",
    "                countRobecosamGreenStocks+=1\n",
    "                returnsRobecosamGreenStocks+=stocksNormalizedData[column[:-22]+\"|DAILY_RETURNS\"][index]\n",
    "            elif stocksNormalizedData[column][lastDay]>0.7:\n",
    "                countRobecosamBrownStocks+=1\n",
    "                returnsRobecosamBrownStocks+=stocksNormalizedData[column[:-22]+\"|DAILY_RETURNS\"][index]\n",
    "                \n",
    "#         print(countBloombergGreenStocks, countBloombergBrownStocks, countRobecosamGreenStocks, countRobecosamBrownStocks)\n",
    "        \n",
    "    marketGreenPortfolios[\"MKT_GREEN_BL|DAILY_RETURNS\"][index]=returnsBloombergGreenStocks/countBloombergGreenStocks\n",
    "    marketGreenPortfolios[\"MKT_BROWN_BL|DAILY_RETURNS\"][index]=returnsBloombergBrownStocks/countBloombergBrownStocks\n",
    "    marketGreenPortfolios[\"MKT_GREEN_RO|DAILY_RETURNS\"][index]=returnsRobecosamGreenStocks/countRobecosamGreenStocks\n",
    "    marketGreenPortfolios[\"MKT_BROWN_RO|DAILY_RETURNS\"][index]=returnsRobecosamBrownStocks/countRobecosamBrownStocks\n",
    "    \n",
    "        \n",
    "        \n",
    "                \n",
    "        \n",
    "    "
   ]
  },
  {
   "cell_type": "code",
   "execution_count": 10,
   "id": "e165080b",
   "metadata": {},
   "outputs": [],
   "source": [
    "marketGreenPortfolios[\"MKT_GMB_BL|DAILY_RETURNS\"]=marketGreenPortfolios[\"MKT_GREEN_BL|DAILY_RETURNS\"]- marketGreenPortfolios[\"MKT_BROWN_BL|DAILY_RETURNS\"]\n",
    "marketGreenPortfolios[\"MKT_GMB_RO|DAILY_RETURNS\"]=marketGreenPortfolios[\"MKT_GREEN_RO|DAILY_RETURNS\"]- marketGreenPortfolios[\"MKT_BROWN_RO|DAILY_RETURNS\"]"
   ]
  },
  {
   "cell_type": "code",
   "execution_count": 11,
   "id": "ddc7d939",
   "metadata": {},
   "outputs": [],
   "source": [
    "marketGreenPortfolios[\"MKT_BROWN|DAILY_RETURNS\"]=marketGreenPortfolios[\"MKT_BROWN_BL|DAILY_RETURNS\"]/2+marketGreenPortfolios[\"MKT_BROWN_RO|DAILY_RETURNS\"]/2\n",
    "marketGreenPortfolios[\"MKT_GREEN|DAILY_RETURNS\"]=marketGreenPortfolios[\"MKT_GREEN_BL|DAILY_RETURNS\"]/2+marketGreenPortfolios[\"MKT_GREEN_RO|DAILY_RETURNS\"]/2\n",
    "marketGreenPortfolios[\"MKT_GMB|DAILY_RETURNS\"]=marketGreenPortfolios[\"MKT_GMB_BL|DAILY_RETURNS\"]/2+marketGreenPortfolios[\"MKT_GMB_RO|DAILY_RETURNS\"]/2\n"
   ]
  },
  {
   "cell_type": "code",
   "execution_count": 12,
   "id": "6605ae44",
   "metadata": {},
   "outputs": [],
   "source": [
    "marketGreenPortfolios.to_csv(dataPath+'/interim/marketGreenPortfolios.csv')"
   ]
  },
  {
   "cell_type": "code",
   "execution_count": null,
   "id": "e764d6cb",
   "metadata": {},
   "outputs": [],
   "source": []
  }
 ],
 "metadata": {
  "kernelspec": {
   "display_name": "data-science-env",
   "language": "python",
   "name": "python3"
  },
  "language_info": {
   "codemirror_mode": {
    "name": "ipython",
    "version": 3
   },
   "file_extension": ".py",
   "mimetype": "text/x-python",
   "name": "python",
   "nbconvert_exporter": "python",
   "pygments_lexer": "ipython3",
   "version": "3.10.9"
  },
  "vscode": {
   "interpreter": {
    "hash": "456eb8b4f0119b9c65dd9f66277c44667564c5e83ce409be82b9d4536b9aba1c"
   }
  }
 },
 "nbformat": 4,
 "nbformat_minor": 5
}
